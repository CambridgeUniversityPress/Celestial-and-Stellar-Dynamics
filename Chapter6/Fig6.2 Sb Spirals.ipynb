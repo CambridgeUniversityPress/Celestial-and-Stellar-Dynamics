{
 "cells": [
  {
   "cell_type": "markdown",
   "metadata": {},
   "source": [
    "# Spiral Galaxy Rotation Curves\n",
    "\n",
    "Figure 6.2 from Chapter 6 of Ryden, *Celestial and Stellar Dynamics*, Cambridge University Press.\n",
    "\n",
    "Rotation curves for spiral galaxies of class Sb; the thick black line is the rotation curve of the Milky Way\n",
    "Galaxy, normalized to $r_\\odot = 8$\\,kpc and $v_\\mathrm{circ} = 200\\,\\mathrm{km\\,s}^{-1}$.\n",
    "\n",
    "Data from Sofue et al. [1999, ApJ, 523, 136](https://ui.adsabs.harvard.edu/abs/1999ApJ...523..136S), derived\n",
    "from the online repository at the University of Tokyo [RC99](https://www.ioa.s.u-tokyo.ac.jp/~sofue/RC99/rc99.htm)."
   ]
  },
  {
   "cell_type": "code",
   "execution_count": null,
   "metadata": {},
   "outputs": [],
   "source": [
    "%matplotlib inline\n",
    "\n",
    "import math\n",
    "import numpy as np\n",
    "import pandas as pd\n",
    "import matplotlib\n",
    "import matplotlib.pyplot as plt\n",
    "from matplotlib.ticker import MultipleLocator, LogLocator, NullFormatter\n",
    "\n",
    "from pathlib import Path\n",
    "\n",
    "import warnings\n",
    "warnings.filterwarnings('ignore',category=UserWarning, append=True)\n",
    "warnings.filterwarnings('ignore',category=RuntimeWarning, append=True)"
   ]
  },
  {
   "cell_type": "markdown",
   "metadata": {},
   "source": [
    "## Standard Plot Format\n",
    "\n",
    "Setup the standard plotting format and make the plot.  "
   ]
  },
  {
   "cell_type": "code",
   "execution_count": null,
   "metadata": {},
   "outputs": [],
   "source": [
    "plotFile = 'Fig6_2.png' \n",
    "\n",
    "# graphic aspect ratio = width/height\n",
    "\n",
    "aspect = 4.0/3.0 # 4:3\n",
    "\n",
    "#\n",
    "# Don't change these unless you really need to (we never have)\n",
    "#\n",
    "# fPage is the horizontal fraction of the page occupied by the figure, default 1.0\n",
    "#\n",
    "# scaleFac is the LaTeX includegraphics scaling in units of \\textwidth, default 1.0\n",
    "#\n",
    "\n",
    "fPage = 1.0\n",
    "scaleFac = 0.85\n",
    "\n",
    "# Text width in inches - don't change, this is defined by the print layout\n",
    "\n",
    "textWidth = 6.0 # inches\n",
    "\n",
    "# Graphic dimensions depending on bitmap or vector format (draft vs production)\n",
    "\n",
    "figFmt = 'png'\n",
    "dpi = 600\n",
    "plotWidth = dpi*fPage*textWidth\n",
    "plotHeight = plotWidth/aspect\n",
    "axisFontSize = 12\n",
    "labelFontSize = 10\n",
    "lwidth = 0.5\n",
    "axisPad = 5\n",
    "wInches = fPage*textWidth # float(plotWidth)/float(dpi)\n",
    "hInches = wInches/aspect  # float(plotHeight)/float(dpi)\n",
    "\n",
    "# LaTeX is used throughout for markup of symbols, Times-Roman serif font\n",
    "\n",
    "plt.rc('text', usetex=True)\n",
    "plt.rc('font', **{'family':'serif','serif':['Times-Roman'],'weight':'bold','size':'16'})\n",
    "\n",
    "# Font and line weight defaults for axes\n",
    "\n",
    "matplotlib.rc('axes',linewidth=lwidth)\n",
    "matplotlib.rcParams.update({'font.size':axisFontSize})\n",
    "\n",
    "# axis and label padding\n",
    "\n",
    "plt.rcParams['xtick.major.pad']=f'{axisPad}'\n",
    "plt.rcParams['ytick.major.pad']=f'{axisPad}'\n",
    "plt.rcParams['axes.labelpad'] = f'{axisPad}'"
   ]
  },
  {
   "cell_type": "markdown",
   "metadata": {},
   "source": [
    "## Rotation curve data\n",
    "\n",
    "ASCII text files with the rotation curves are in the `Sofue99/` folder which contains all of the data from\n",
    "Sofue et al. 1999. We've selected the Sb galaxies listed in the `sbList` array. Galaxy `0000` is the Milky Way,\n",
    "but all others are NGC numbers.\n",
    "\n",
    "Data are 2-column ASCII with comments elimited with a # character:\n",
    " * Col 1: R - galactocentric radius in kpc\n",
    " * Col 2: V - rotation speed in km/s"
   ]
  },
  {
   "cell_type": "code",
   "execution_count": null,
   "metadata": {},
   "outputs": [],
   "source": [
    "dataDir = 'Sofue99'\n",
    "\n",
    "sbList = ['0000','0224','0891','1068','1417','2590','2708','2841','3031','3628','4527','4565']\n",
    "\n",
    "rKpc = {}\n",
    "vCirc = {}\n",
    "\n",
    "for galaxy in sbList:\n",
    "    dataFile = str(Path(dataDir) / f\"{galaxy}.dat\")\n",
    "    data = pd.read_csv(dataFile,sep=r'\\s+',comment='#',header=None)\n",
    "\n",
    "    rKpc[galaxy] = np.array(data[0])\n",
    "    vCirc[galaxy] = np.array(data[1])\n",
    "\n",
    "# plotting limits\n",
    "\n",
    "rMin = 0.0\n",
    "rMax = 30.0 \n",
    "\n",
    "vMin = 0.0\n",
    "vMax = 360.0"
   ]
  },
  {
   "cell_type": "markdown",
   "metadata": {},
   "source": [
    "### Figure 6.2\n",
    "\n",
    "Plot the rotation curve as a function of galactocentric radius.  The Milky Way (object '0000') is plotted with\n",
    "a heavy black line"
   ]
  },
  {
   "cell_type": "code",
   "execution_count": null,
   "metadata": {},
   "outputs": [],
   "source": [
    "fig,ax = plt.subplots(figsize=(wInches,hInches),dpi=dpi)\n",
    "\n",
    "ax.tick_params('both',length=6,width=lwidth,which='major',direction='in',top='on',right='on')\n",
    "ax.tick_params('both',length=3,width=lwidth,which='minor',direction='in',top='on',right='on')\n",
    "\n",
    "# Limits\n",
    "\n",
    "ax.set_xlim(rMin,rMax)\n",
    "ax.xaxis.set_major_locator(MultipleLocator(5.0))\n",
    "ax.xaxis.set_minor_locator(MultipleLocator(1.0))\n",
    "ax.set_xlabel(r'$r$ [kpc]',fontsize=axisFontSize)\n",
    "\n",
    "ax.set_ylim(vMin,vMax)\n",
    "ax.yaxis.set_major_locator(MultipleLocator(100))\n",
    "ax.yaxis.set_minor_locator(MultipleLocator(20))\n",
    "ax.set_ylabel(r'$v_{\\rm circ}$ [km s$^{-1}$]',fontsize=axisFontSize)\n",
    "\n",
    "# Milky Way is heavy black, others are thin\n",
    "\n",
    "for galaxy in sbList:\n",
    "    if galaxy == '0000':\n",
    "        ax.plot(rKpc[galaxy],vCirc[galaxy],'-',lw=1.5,color='black',zorder=10)\n",
    "    else:\n",
    "        ax.plot(rKpc[galaxy],vCirc[galaxy],'-',lw=0.75,color='black',zorder=10)\n",
    "\n",
    "plt.savefig(plotFile,bbox_inches='tight',facecolor='white')\n",
    "\n",
    "plt.show()"
   ]
  }
 ],
 "metadata": {
  "kernelspec": {
   "display_name": "Python 3 (ipykernel)",
   "language": "python",
   "name": "python3"
  },
  "language_info": {
   "codemirror_mode": {
    "name": "ipython",
    "version": 3
   },
   "file_extension": ".py",
   "mimetype": "text/x-python",
   "name": "python",
   "nbconvert_exporter": "python",
   "pygments_lexer": "ipython3",
   "version": "3.12.2"
  }
 },
 "nbformat": 4,
 "nbformat_minor": 4
}
