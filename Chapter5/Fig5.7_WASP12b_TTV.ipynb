{
 "cells": [
  {
   "cell_type": "markdown",
   "metadata": {},
   "source": [
    "# Transit Timing Variations in WASP-12b\n",
    "\n",
    "Figure 5.7 from Chapter 5 of Ryden, *Celestial and Stellar Dynamics*, Cambridge University Press.\n",
    "\n",
    "Plot of the observed minus calculated transit time for WASP-12b, assuming a constant period $\\mathcal{P}$\n",
    "using data from Wong et al. [2022, AJ, 163, 175](https://ui.adsabs.harvard.edu/abs/2022AJ....163..175W).\n",
    "\n",
    "We compute the fit using the quadratic term of Wong et al.'s Eqn 7.5a:\n",
    "\\begin{equation}\n",
    "   T_{tran}(E) = T_0 + PE + \\frac{1}{2}\\frac{dP}{dE}E^2\n",
    "\\end{equation}\n",
    "with best-fit values for $T_0$, $P$, and $dP/dE$ from Equation 8 of Wong et al."
   ]
  },
  {
   "cell_type": "code",
   "execution_count": null,
   "metadata": {},
   "outputs": [],
   "source": [
    "%matplotlib inline\n",
    "\n",
    "import math\n",
    "import numpy as np\n",
    "import pandas as pd\n",
    "import matplotlib\n",
    "import matplotlib.pyplot as plt\n",
    "from matplotlib.ticker import MultipleLocator, LogLocator, NullFormatter\n",
    "\n",
    "from pathlib import Path\n",
    "\n",
    "import warnings\n",
    "warnings.filterwarnings('ignore',category=UserWarning, append=True)\n",
    "warnings.filterwarnings('ignore',category=RuntimeWarning, append=True)"
   ]
  },
  {
   "cell_type": "markdown",
   "metadata": {},
   "source": [
    "## Standard Plot Format\n",
    "\n",
    "Setup the standard plotting format and make the plot.  "
   ]
  },
  {
   "cell_type": "code",
   "execution_count": null,
   "metadata": {},
   "outputs": [],
   "source": [
    "plotFile = 'Fig5_7.png' \n",
    "\n",
    "# graphic aspect ratio = width/height\n",
    "\n",
    "aspect = 2.5 # 4.0/3.0 # 4:3\n",
    "\n",
    "#\n",
    "# Don't change these unless you really need to (we never have)\n",
    "#\n",
    "# fPage is the horizontal fraction of the page occupied by the figure, default 1.0\n",
    "#\n",
    "# scaleFac is the LaTeX includegraphics scaling in units of \\textwidth, default 1.0\n",
    "#\n",
    "\n",
    "fPage = 1.0\n",
    "scaleFac = 0.85\n",
    "\n",
    "# Text width in inches - don't change, this is defined by the print layout\n",
    "\n",
    "textWidth = 6.0 # inches\n",
    "\n",
    "figFmt = 'png'\n",
    "dpi = 600\n",
    "plotWidth = dpi*fPage*textWidth\n",
    "plotHeight = plotWidth/aspect\n",
    "axisFontSize = 10\n",
    "labelFontSize = 8\n",
    "lwidth = 0.5\n",
    "axisPad = 5\n",
    "wInches = fPage*textWidth # float(plotWidth)/float(dpi)\n",
    "hInches = wInches/aspect  # float(plotHeight)/float(dpi)\n",
    "\n",
    "# LaTeX is used throughout for markup of symbols, Times-Roman serif font\n",
    "\n",
    "plt.rc('text', usetex=True)\n",
    "plt.rc('font', **{'family':'serif','serif':['Times-Roman'],'weight':'bold','size':'16'})\n",
    "\n",
    "# Font and line weight defaults for axes\n",
    "\n",
    "matplotlib.rc('axes',linewidth=lwidth)\n",
    "matplotlib.rcParams.update({'font.size':axisFontSize})\n",
    "\n",
    "# axis and label padding\n",
    "\n",
    "plt.rcParams['xtick.major.pad']=f'{axisPad}'\n",
    "plt.rcParams['ytick.major.pad']=f'{axisPad}'\n",
    "plt.rcParams['axes.labelpad'] = f'{axisPad}'"
   ]
  },
  {
   "cell_type": "markdown",
   "metadata": {},
   "source": [
    "## TTV data\n",
    "\n",
    "Data are from Wong et al. 2022 provided by Ian Wong in 4-column ASCII format\n",
    " * `Epoch` - transit epoch (integer)\n",
    " * `t_0` - transit center time in BJD_TBD days\n",
    " * `err_t0` - error in `t_0` in days, we convert to minutes\n",
    " * `O-C` - deviation from linear ephemeris (observed-expected) in minutes\n",
    " \n",
    "We also compute the best-fit quadratic term of the TTV O-C using equation 7a and the coefficients from \n",
    "Equation 8 in Wong et al. 2022."
   ]
  },
  {
   "cell_type": "code",
   "execution_count": null,
   "metadata": {},
   "outputs": [],
   "source": [
    "ttvFile = str(Path(\"TTVs\") / \"WASP12b.txt\")\n",
    "\n",
    "data = pd.read_csv(ttvFile,sep=r'\\s+',comment='#')\n",
    "\n",
    "Epoch = np.array(data['Epoch'])\n",
    "t_0 = np.array(data['t_0'])\n",
    "err = np.array(data['err_t0'])*60*24 # convert days to minutes\n",
    "\n",
    "epMin = -2600.0 # transit epoch min/max\n",
    "epMax = 2400.0\n",
    "\n",
    "ocMin = -6.0 # max O-C in minutes\n",
    "ocMax = 3.0\n",
    "\n",
    "# Quadratic term of best fit (Wong et al. Eqn 8)\n",
    "\n",
    "T0 = 2457103.283654 # days BJD_TDB\n",
    "P = 1.091419370 # days\n",
    "dPdE = -1.031e-9 # days/orbit\n",
    "\n",
    "# some corrections - reported t_0 at E=0\n",
    "\n",
    "T_E0 = 2457103.28423 # days\n",
    "dT0 = (T_E0 - T0)*60*24 \n",
    "\n",
    "# compute O-C removing the linear ephemeris\n",
    "\n",
    "OmC = (t_0 - (T0 + P*Epoch))*60*24 + dT0 \n",
    "\n",
    "# arrays to plot the quadratic part of the best fit\n",
    "\n",
    "epFit = np.linspace(epMin,epMax,501)\n",
    "OmCfit = 0.5*dPdE*(60*24)*epFit*epFit + dT0 "
   ]
  },
  {
   "cell_type": "markdown",
   "metadata": {},
   "source": [
    "## Figure 5.7\n",
    "\n",
    "TTV curve for WASP-12b with the best-fit quadratic term plotted as a solid line\n"
   ]
  },
  {
   "cell_type": "code",
   "execution_count": null,
   "metadata": {},
   "outputs": [],
   "source": [
    "fig,ax = plt.subplots(figsize=(wInches,hInches),dpi=dpi)\n",
    "\n",
    "ax.tick_params('both',length=6,width=lwidth,which='major',direction='in',top='on',right='on')\n",
    "ax.tick_params('both',length=3,width=lwidth,which='minor',direction='in',top='on',right='on')\n",
    "\n",
    "# Limits\n",
    "\n",
    "ax.set_xlim(epMin,epMax)\n",
    "ax.xaxis.set_major_locator(MultipleLocator(1000))\n",
    "ax.xaxis.set_minor_locator(MultipleLocator(200))\n",
    "ax.set_xlabel(r'Transit number',fontsize=axisFontSize)\n",
    "\n",
    "ax.set_ylim(ocMin,ocMax)\n",
    "ax.yaxis.set_major_locator(MultipleLocator(2))\n",
    "ax.yaxis.set_minor_locator(MultipleLocator(0.5))\n",
    "ax.set_ylabel(r'O$-$C [min]',fontsize=axisFontSize)\n",
    "\n",
    "ax.errorbar(Epoch,OmC,xerr=None,yerr=err,fmt='o',ms=2,mfc='white',mec='black',mew=0.3,\n",
    "            capsize=0.0,elinewidth=0.5,ecolor='black',zorder=10)\n",
    "\n",
    "ax.plot(epFit,OmCfit,'-',lw=0.75,color='black',zorder=9)\n",
    "ax.hlines(0.0,epMin,epMax,ls=['--'],colors=['black'],lw=0.5,zorder=8)\n",
    "\n",
    "plt.savefig(plotFile,bbox_inches='tight',facecolor='white')\n",
    "\n",
    "plt.show()"
   ]
  }
 ],
 "metadata": {
  "kernelspec": {
   "display_name": "Python 3 (ipykernel)",
   "language": "python",
   "name": "python3"
  },
  "language_info": {
   "codemirror_mode": {
    "name": "ipython",
    "version": 3
   },
   "file_extension": ".py",
   "mimetype": "text/x-python",
   "name": "python",
   "nbconvert_exporter": "python",
   "pygments_lexer": "ipython3",
   "version": "3.12.2"
  }
 },
 "nbformat": 4,
 "nbformat_minor": 4
}
